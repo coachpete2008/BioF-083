{
 "cells": [
  {
   "cell_type": "markdown",
   "metadata": {},
   "source": [
    "# 2. RNA-Seq analysis"
   ]
  },
  {
   "cell_type": "markdown",
   "metadata": {},
   "source": [
    "## 2.1. Read Prep\n",
    "1. Go into the terminal and make a new directory on your desktop called “trimming”."
   ]
  },
  {
   "cell_type": "code",
   "execution_count": null,
   "metadata": {},
   "outputs": [],
   "source": [
    "#change to home directory\n",
    "cd ~"
   ]
  },
  {
   "cell_type": "code",
   "execution_count": null,
   "metadata": {},
   "outputs": [],
   "source": [
    "#change to Desktop directory\n",
    "cd Desktop"
   ]
  },
  {
   "cell_type": "code",
   "execution_count": null,
   "metadata": {},
   "outputs": [],
   "source": [
    "#make 'Trimming' directory\n",
    "mkdir Trimming"
   ]
  },
  {
   "cell_type": "code",
   "execution_count": null,
   "metadata": {},
   "outputs": [],
   "source": [
    "#change to Trimming directory\n",
    "cd Trimming"
   ]
  },
  {
   "cell_type": "code",
   "execution_count": 41,
   "metadata": {},
   "outputs": [
    {
     "name": "stdout",
     "output_type": "stream",
     "text": [
      "/home/manager/Desktop/Trimming\n"
     ]
    }
   ],
   "source": [
    "#print working directory to make sure you are in the correct directory\n",
    "pwd"
   ]
  },
  {
   "cell_type": "code",
   "execution_count": 35,
   "metadata": {},
   "outputs": [],
   "source": [
    "#link - create short cut to example datafiles, in your Trimming directory\n",
    "ln -s ~/Desktop/rnaseq/input/Trimming/* ."
   ]
  },
  {
   "cell_type": "code",
   "execution_count": 40,
   "metadata": {},
   "outputs": [
    {
     "name": "stdout",
     "output_type": "stream",
     "text": [
      "\u001b[0m\u001b[01;36mTumor_RNAseq_R1.fastq\u001b[0m  \u001b[01;36mTumor_RNAseq_R2.fastq\u001b[0m  \u001b[01;36madapt.fasta\u001b[0m\n"
     ]
    }
   ],
   "source": [
    "#list and check to see if you have all required files\n",
    "ls"
   ]
  },
  {
   "cell_type": "code",
   "execution_count": 42,
   "metadata": {},
   "outputs": [
    {
     "name": "stdout",
     "output_type": "stream",
     "text": [
      "@HWI-ST466_135068617:8:1101:1410:13698/1\n",
      "ACTTTGTGTTTGAGGATAAGAANGANNCACCTNAGGAGNNNNNNGCGGACGTCTTAGCNGAGGNNATNACNGCAGCAGTNAGGGCCGTAGATNGGGAAGG\n",
      "+\n",
      "<?@B?DA?C?FAHGICAGAFCE#3<##)1?E?#1:BBG##############################################################\n",
      "@HWI-ST466_135068617:8:1101:1411:13794/1\n",
      "TCTCATTGCTACCAGTGGCTTGNTANNAAATGNTAGCANNNNNNTCCGGATACAGAGANATTTNNTGNACNGCATTTATNGTCTTCAGAGATNCAGTTTT\n",
      "+\n",
      "CCCFFFFFHHGHHJJEHIJIJJ#2A##1:CCG#1?DHI######0-<FHEHIIJJJIH#-5@D##,,#,;#,;?@BDED#,5?BDDEDDDDC#+2<8?DD\n",
      "@HWI-ST466_135068617:8:1101:1413:69882/1\n",
      "ATGAAACCCTCCAGTCTATTATNGTNNCATAGNTAATGNTNNNNCGTGTTTTCTGATTNGGTGNNCTNAGNCTTGGTGCNTCCCTCTCCACANCCCCCAC\n"
     ]
    }
   ],
   "source": [
    "#look at the fastq file\n",
    "head Tumor_RNAseq_R1.fastq"
   ]
  },
  {
   "cell_type": "code",
   "execution_count": 43,
   "metadata": {},
   "outputs": [
    {
     "name": "stdout",
     "output_type": "stream",
     "text": [
      ">PrefixPE/1\n",
      "TACACTCTTTCCCTACACGACGCTCTTCCGATCT\n",
      ">PrefixPE/2\n",
      "GTGACTGGAGTTCAGACGTGTGCTCTTCCGATCT"
     ]
    }
   ],
   "source": [
    "#look at the adapter file\n",
    "head adapt.fasta"
   ]
  },
  {
   "cell_type": "markdown",
   "metadata": {},
   "source": [
    "2. We will run FASTQC on some paired end data and inspect the results (REMEMBER TAB COMPLETION! It prevents typos)."
   ]
  },
  {
   "cell_type": "code",
   "execution_count": 36,
   "metadata": {},
   "outputs": [],
   "source": [
    "#make fastq directory in your desktop\n",
    "mkdir ~/Desktop/fastq"
   ]
  },
  {
   "cell_type": "code",
   "execution_count": 38,
   "metadata": {},
   "outputs": [
    {
     "name": "stdout",
     "output_type": "stream",
     "text": [
      "Started analysis of Tumor_RNAseq_R1.fastq\n",
      "Approx 5% complete for Tumor_RNAseq_R1.fastq\n",
      "Approx 10% complete for Tumor_RNAseq_R1.fastq\n",
      "Approx 15% complete for Tumor_RNAseq_R1.fastq\n",
      "Approx 20% complete for Tumor_RNAseq_R1.fastq\n",
      "Approx 25% complete for Tumor_RNAseq_R1.fastq\n",
      "Approx 30% complete for Tumor_RNAseq_R1.fastq\n",
      "Approx 35% complete for Tumor_RNAseq_R1.fastq\n",
      "Approx 40% complete for Tumor_RNAseq_R1.fastq\n",
      "Approx 45% complete for Tumor_RNAseq_R1.fastq\n",
      "Approx 50% complete for Tumor_RNAseq_R1.fastq\n",
      "Approx 55% complete for Tumor_RNAseq_R1.fastq\n",
      "Approx 60% complete for Tumor_RNAseq_R1.fastq\n",
      "Approx 65% complete for Tumor_RNAseq_R1.fastq\n",
      "Approx 70% complete for Tumor_RNAseq_R1.fastq\n",
      "Approx 75% complete for Tumor_RNAseq_R1.fastq\n",
      "Approx 80% complete for Tumor_RNAseq_R1.fastq\n",
      "Approx 85% complete for Tumor_RNAseq_R1.fastq\n",
      "Approx 90% complete for Tumor_RNAseq_R1.fastq\n",
      "Approx 95% complete for Tumor_RNAseq_R1.fastq\n",
      "Analysis complete for Tumor_RNAseq_R1.fastq\n",
      "Started analysis of Tumor_RNAseq_R2.fastq\n",
      "Approx 5% complete for Tumor_RNAseq_R2.fastq\n",
      "Approx 10% complete for Tumor_RNAseq_R2.fastq\n",
      "Approx 15% complete for Tumor_RNAseq_R2.fastq\n",
      "Approx 20% complete for Tumor_RNAseq_R2.fastq\n",
      "Approx 25% complete for Tumor_RNAseq_R2.fastq\n",
      "Approx 30% complete for Tumor_RNAseq_R2.fastq\n",
      "Approx 35% complete for Tumor_RNAseq_R2.fastq\n",
      "Approx 40% complete for Tumor_RNAseq_R2.fastq\n",
      "Approx 45% complete for Tumor_RNAseq_R2.fastq\n",
      "Approx 50% complete for Tumor_RNAseq_R2.fastq\n",
      "Approx 55% complete for Tumor_RNAseq_R2.fastq\n",
      "Approx 60% complete for Tumor_RNAseq_R2.fastq\n",
      "Approx 65% complete for Tumor_RNAseq_R2.fastq\n",
      "Approx 70% complete for Tumor_RNAseq_R2.fastq\n",
      "Approx 75% complete for Tumor_RNAseq_R2.fastq\n",
      "Approx 80% complete for Tumor_RNAseq_R2.fastq\n",
      "Approx 85% complete for Tumor_RNAseq_R2.fastq\n",
      "Approx 90% complete for Tumor_RNAseq_R2.fastq\n",
      "Approx 95% complete for Tumor_RNAseq_R2.fastq\n",
      "Analysis complete for Tumor_RNAseq_R2.fastq\n"
     ]
    }
   ],
   "source": [
    "#run fastqc on R1 and R2 sample\n",
    "source /etc/profile.d/markcbm.sh\n",
    "fastqc Tumor_RNAseq_R1.fastq -o ~/Desktop/fastqc\n",
    "fastqc Tumor_RNAseq_R2.fastq -o ~/Desktop/fastqc"
   ]
  },
  {
   "cell_type": "markdown",
   "metadata": {},
   "source": [
    "3. Now let’s look at those FASTQC results."
   ]
  },
  {
   "cell_type": "code",
   "execution_count": 44,
   "metadata": {},
   "outputs": [],
   "source": [
    "#change to fastqc output directory\n",
    "cd ~/Desktop/fastqc"
   ]
  },
  {
   "cell_type": "code",
   "execution_count": 45,
   "metadata": {},
   "outputs": [],
   "source": [
    "#open the fastqc html output\n",
    "firefox Tumor_RNAseq_R1_fastqc.html"
   ]
  },
  {
   "cell_type": "markdown",
   "metadata": {},
   "source": [
    "4. We are going to use Trimmomatic to trim the reads. Type the long command on a single line. Manual available at http://www.usadellab.org/cms/?page=trimmomatic. "
   ]
  },
  {
   "cell_type": "code",
   "execution_count": 46,
   "metadata": {},
   "outputs": [
    {
     "name": "stdout",
     "output_type": "stream",
     "text": [
      "TrimmomaticPE: Started with arguments:\n",
      " -threads 4 Tumor_RNAseq_R1.fastq Tumor_RNAseq_R2.fastq Tumor_RNAseq_R1_pe.fq Tumor_RNAseq_R1_se.fq Tumor_RNAseq_R2_pe.fq Tumor_RNAseq_R2_se.fq ILLUMINACLIP:adapt.fasta:2:30:10 LEADING:3 TRAILING:3 SLIDINGWINDOW:4:20 MINLEN:70\n",
      "Using PrefixPair: 'TACACTCTTTCCCTACACGACGCTCTTCCGATCT' and 'GTGACTGGAGTTCAGACGTGTGCTCTTCCGATCT'\n",
      "ILLUMINACLIP: Using 1 prefix pairs, 0 forward/reverse sequences, 0 forward only sequences, 0 reverse only sequences\n",
      "Quality encoding detected as phred33\n",
      "Input Read Pairs: 27908 Both Surviving: 24897 (89.21%) Forward Only Surviving: 1535 (5.50%) Reverse Only Surviving: 874 (3.13%) Dropped: 602 (2.16%)\n",
      "TrimmomaticPE: Completed successfully\n"
     ]
    }
   ],
   "source": [
    "#change to Trimming directory and run trimmomatic\n",
    "cd ~/Desktop/Trimming\n",
    "java -jar /usr/local/molbiocloud/Trimmomatic-0.39/trimmomatic-0.39.jar \\\n",
    "PE -threads 4 \\\n",
    "Tumor_RNAseq_R1.fastq Tumor_RNAseq_R2.fastq \\\n",
    "Tumor_RNAseq_R1_pe.fq Tumor_RNAseq_R1_se.fq \\\n",
    "Tumor_RNAseq_R2_pe.fq Tumor_RNAseq_R2_se.fq \\\n",
    "ILLUMINACLIP:adapt.fasta:2:30:10 \\\n",
    "LEADING:3 TRAILING:3 SLIDINGWINDOW:4:20 MINLEN:70"
   ]
  },
  {
   "cell_type": "markdown",
   "metadata": {},
   "source": [
    "This will perform the following:\n",
    "- Remove sequences that match the adapter (ILLUMINACLIP:adapt.fasta:2:30:10)\n",
    "- Remove leading low quality bases (below quality 3) (LEADING:3)\n",
    "- Remove trailing low quality bases (below quality 3) (TRAILING:3)\n",
    "- Scan the read with a 4-base wide sliding window, cutting when the average quality per base drops below 20 (SLIDINGWINDOW:4:20)\n",
    "- Remove reads less than 70 bases long (MINLEN:70)"
   ]
  },
  {
   "cell_type": "markdown",
   "metadata": {},
   "source": [
    "5. Now we will run FASTQC on one of the trimmed files"
   ]
  },
  {
   "cell_type": "code",
   "execution_count": 47,
   "metadata": {},
   "outputs": [
    {
     "name": "stdout",
     "output_type": "stream",
     "text": [
      "Started analysis of Tumor_RNAseq_R1_pe.fq\n",
      "Approx 5% complete for Tumor_RNAseq_R1_pe.fq\n",
      "Approx 10% complete for Tumor_RNAseq_R1_pe.fq\n",
      "Approx 15% complete for Tumor_RNAseq_R1_pe.fq\n",
      "Approx 20% complete for Tumor_RNAseq_R1_pe.fq\n",
      "Approx 25% complete for Tumor_RNAseq_R1_pe.fq\n",
      "Approx 30% complete for Tumor_RNAseq_R1_pe.fq\n",
      "Approx 35% complete for Tumor_RNAseq_R1_pe.fq\n",
      "Approx 40% complete for Tumor_RNAseq_R1_pe.fq\n",
      "Approx 45% complete for Tumor_RNAseq_R1_pe.fq\n",
      "Approx 50% complete for Tumor_RNAseq_R1_pe.fq\n",
      "Approx 55% complete for Tumor_RNAseq_R1_pe.fq\n",
      "Approx 60% complete for Tumor_RNAseq_R1_pe.fq\n",
      "Approx 65% complete for Tumor_RNAseq_R1_pe.fq\n",
      "Approx 70% complete for Tumor_RNAseq_R1_pe.fq\n",
      "Approx 75% complete for Tumor_RNAseq_R1_pe.fq\n",
      "Approx 80% complete for Tumor_RNAseq_R1_pe.fq\n",
      "Approx 85% complete for Tumor_RNAseq_R1_pe.fq\n",
      "Approx 90% complete for Tumor_RNAseq_R1_pe.fq\n",
      "Approx 95% complete for Tumor_RNAseq_R1_pe.fq\n",
      "Analysis complete for Tumor_RNAseq_R1_pe.fq\n"
     ]
    }
   ],
   "source": [
    "fastqc Tumor_RNAseq_R1_pe.fq -o ~/Desktop/fastqc"
   ]
  },
  {
   "cell_type": "markdown",
   "metadata": {},
   "source": [
    "6. Now let’s look at those FASTQC results."
   ]
  },
  {
   "cell_type": "code",
   "execution_count": 48,
   "metadata": {},
   "outputs": [],
   "source": [
    "cd ~/Desktop/fastqc\n",
    "firefox Tumor_RNAseq_R1_pe_fastqc.html"
   ]
  },
  {
   "cell_type": "markdown",
   "metadata": {},
   "source": [
    "## 2.2 Alignment and transcript assembly\n",
    "1. Get the data for today’s work"
   ]
  },
  {
   "cell_type": "code",
   "execution_count": 52,
   "metadata": {},
   "outputs": [
    {
     "name": "stdout",
     "output_type": "stream",
     "text": [
      "\u001b[0m\u001b[01;36mchr16.fa\u001b[0m   \u001b[01;36mrna_cntl_1.fastq\u001b[0m  \u001b[01;36mrna_expt_1.fastq\u001b[0m\n",
      "\u001b[01;36mchr16.gtf\u001b[0m  \u001b[01;36mrna_cntl_2.fastq\u001b[0m  \u001b[01;36mrna_expt_2.fastq\u001b[0m\n"
     ]
    }
   ],
   "source": [
    "cd ~/Desktop\n",
    "mkdir hisat\n",
    "cd hisat\n",
    "ln -s ~/Desktop/rnaseq/input/hisat/* .\n",
    "ls"
   ]
  },
  {
   "cell_type": "code",
   "execution_count": 53,
   "metadata": {},
   "outputs": [
    {
     "name": "stdout",
     "output_type": "stream",
     "text": [
      ">chr16\n",
      "NNNNNNNNNNNNNNNNNNNNNNNNNNNNNNNNNNNNNNNNNNNNNNNNNN\n",
      "NNNNNNNNNNNNNNNNNNNNNNNNNNNNNNNNNNNNNNNNNNNNNNNNNN\n",
      "NNNNNNNNNNNNNNNNNNNNNNNNNNNNNNNNNNNNNNNNNNNNNNNNNN\n",
      "NNNNNNNNNNNNNNNNNNNNNNNNNNNNNNNNNNNNNNNNNNNNNNNNNN\n",
      "NNNNNNNNNNNNNNNNNNNNNNNNNNNNNNNNNNNNNNNNNNNNNNNNNN\n",
      "NNNNNNNNNNNNNNNNNNNNNNNNNNNNNNNNNNNNNNNNNNNNNNNNNN\n",
      "NNNNNNNNNNNNNNNNNNNNNNNNNNNNNNNNNNNNNNNNNNNNNNNNNN\n",
      "NNNNNNNNNNNNNNNNNNNNNNNNNNNNNNNNNNNNNNNNNNNNNNNNNN\n",
      "NNNNNNNNNNNNNNNNNNNNNNNNNNNNNNNNNNNNNNNNNNNNNNNNNN\n"
     ]
    }
   ],
   "source": [
    "#look at the .fa file and .gtf file contents\n",
    "head chr16.fa"
   ]
  },
  {
   "cell_type": "code",
   "execution_count": 54,
   "metadata": {},
   "outputs": [
    {
     "name": "stdout",
     "output_type": "stream",
     "text": [
      "chr16\thg38_ncbiRefSeq\texon\t8379167\t8379403\t0.000000\t+\t.\tgene_id \"XR_933045.1\"; transcript_id \"XR_933045.1\"; \n",
      "chr16\thg38_ncbiRefSeq\texon\t8392003\t8392122\t0.000000\t+\t.\tgene_id \"XR_933045.1\"; transcript_id \"XR_933045.1\"; \n",
      "chr16\thg38_ncbiRefSeq\texon\t8403654\t8404151\t0.000000\t+\t.\tgene_id \"XR_933045.1\"; transcript_id \"XR_933045.1\"; \n",
      "chr16\thg38_ncbiRefSeq\texon\t25111709\t25111768\t0.000000\t+\t.\tgene_id \"XM_005255354.3\"; transcript_id \"XM_005255354.3\"; \n",
      "chr16\thg38_ncbiRefSeq\texon\t25128475\t25128566\t0.000000\t+\t.\tgene_id \"XM_005255354.3\"; transcript_id \"XM_005255354.3\"; \n",
      "chr16\thg38_ncbiRefSeq\tstart_codon\t25132497\t25132499\t0.000000\t+\t.\tgene_id \"XM_005255354.3\"; transcript_id \"XM_005255354.3\"; \n",
      "chr16\thg38_ncbiRefSeq\tCDS\t25132497\t25132523\t0.000000\t+\t0\tgene_id \"XM_005255354.3\"; transcript_id \"XM_005255354.3\"; \n",
      "chr16\thg38_ncbiRefSeq\texon\t25132402\t25132523\t0.000000\t+\t.\tgene_id \"XM_005255354.3\"; transcript_id \"XM_005255354.3\"; \n",
      "chr16\thg38_ncbiRefSeq\tCDS\t25140171\t25140247\t0.000000\t+\t0\tgene_id \"XM_005255354.3\"; transcript_id \"XM_005255354.3\"; \n",
      "chr16\thg38_ncbiRefSeq\texon\t25140171\t25140247\t0.000000\t+\t.\tgene_id \"XM_005255354.3\"; transcript_id \"XM_005255354.3\"; \n"
     ]
    }
   ],
   "source": [
    "head chr16.gtf"
   ]
  },
  {
   "cell_type": "markdown",
   "metadata": {},
   "source": [
    "2. Run FASTQC for our input files and make sure that there aren’t any major problems."
   ]
  },
  {
   "cell_type": "code",
   "execution_count": 55,
   "metadata": {},
   "outputs": [
    {
     "name": "stdout",
     "output_type": "stream",
     "text": [
      "Started analysis of rna_cntl_1.fastq\n",
      "Approx 5% complete for rna_cntl_1.fastq\n",
      "Approx 10% complete for rna_cntl_1.fastq\n",
      "Approx 15% complete for rna_cntl_1.fastq\n",
      "Approx 20% complete for rna_cntl_1.fastq\n",
      "Approx 25% complete for rna_cntl_1.fastq\n",
      "Approx 30% complete for rna_cntl_1.fastq\n",
      "Approx 35% complete for rna_cntl_1.fastq\n",
      "Approx 40% complete for rna_cntl_1.fastq\n",
      "Approx 45% complete for rna_cntl_1.fastq\n",
      "Approx 50% complete for rna_cntl_1.fastq\n",
      "Approx 55% complete for rna_cntl_1.fastq\n",
      "Approx 60% complete for rna_cntl_1.fastq\n",
      "Approx 65% complete for rna_cntl_1.fastq\n",
      "Approx 70% complete for rna_cntl_1.fastq\n",
      "Approx 75% complete for rna_cntl_1.fastq\n",
      "Approx 80% complete for rna_cntl_1.fastq\n",
      "Approx 85% complete for rna_cntl_1.fastq\n",
      "Approx 90% complete for rna_cntl_1.fastq\n",
      "Approx 95% complete for rna_cntl_1.fastq\n",
      "Analysis complete for rna_cntl_1.fastq\n",
      "Started analysis of rna_cntl_2.fastq\n",
      "Approx 5% complete for rna_cntl_2.fastq\n",
      "Approx 10% complete for rna_cntl_2.fastq\n",
      "Approx 15% complete for rna_cntl_2.fastq\n",
      "Approx 20% complete for rna_cntl_2.fastq\n",
      "Approx 25% complete for rna_cntl_2.fastq\n",
      "Approx 30% complete for rna_cntl_2.fastq\n",
      "Approx 35% complete for rna_cntl_2.fastq\n",
      "Approx 40% complete for rna_cntl_2.fastq\n",
      "Approx 45% complete for rna_cntl_2.fastq\n",
      "Approx 50% complete for rna_cntl_2.fastq\n",
      "Approx 55% complete for rna_cntl_2.fastq\n",
      "Approx 60% complete for rna_cntl_2.fastq\n",
      "Approx 65% complete for rna_cntl_2.fastq\n",
      "Approx 70% complete for rna_cntl_2.fastq\n",
      "Approx 75% complete for rna_cntl_2.fastq\n",
      "Approx 80% complete for rna_cntl_2.fastq\n",
      "Approx 85% complete for rna_cntl_2.fastq\n",
      "Approx 90% complete for rna_cntl_2.fastq\n",
      "Approx 95% complete for rna_cntl_2.fastq\n",
      "Analysis complete for rna_cntl_2.fastq\n",
      "Started analysis of rna_expt_1.fastq\n",
      "Approx 5% complete for rna_expt_1.fastq\n",
      "Approx 10% complete for rna_expt_1.fastq\n",
      "Approx 15% complete for rna_expt_1.fastq\n",
      "Approx 20% complete for rna_expt_1.fastq\n",
      "Approx 25% complete for rna_expt_1.fastq\n",
      "Approx 30% complete for rna_expt_1.fastq\n",
      "Approx 35% complete for rna_expt_1.fastq\n",
      "Approx 40% complete for rna_expt_1.fastq\n",
      "Approx 45% complete for rna_expt_1.fastq\n",
      "Approx 50% complete for rna_expt_1.fastq\n",
      "Approx 55% complete for rna_expt_1.fastq\n",
      "Approx 60% complete for rna_expt_1.fastq\n",
      "Approx 65% complete for rna_expt_1.fastq\n",
      "Approx 70% complete for rna_expt_1.fastq\n",
      "Approx 75% complete for rna_expt_1.fastq\n",
      "Approx 80% complete for rna_expt_1.fastq\n",
      "Approx 85% complete for rna_expt_1.fastq\n",
      "Approx 90% complete for rna_expt_1.fastq\n",
      "Approx 95% complete for rna_expt_1.fastq\n",
      "Analysis complete for rna_expt_1.fastq\n",
      "Started analysis of rna_expt_2.fastq\n",
      "Approx 5% complete for rna_expt_2.fastq\n",
      "Approx 10% complete for rna_expt_2.fastq\n",
      "Approx 15% complete for rna_expt_2.fastq\n",
      "Approx 20% complete for rna_expt_2.fastq\n",
      "Approx 25% complete for rna_expt_2.fastq\n",
      "Approx 30% complete for rna_expt_2.fastq\n",
      "Approx 35% complete for rna_expt_2.fastq\n",
      "Approx 40% complete for rna_expt_2.fastq\n",
      "Approx 45% complete for rna_expt_2.fastq\n",
      "Approx 50% complete for rna_expt_2.fastq\n",
      "Approx 55% complete for rna_expt_2.fastq\n",
      "Approx 60% complete for rna_expt_2.fastq\n",
      "Approx 65% complete for rna_expt_2.fastq\n",
      "Approx 70% complete for rna_expt_2.fastq\n",
      "Approx 75% complete for rna_expt_2.fastq\n",
      "Approx 80% complete for rna_expt_2.fastq\n",
      "Approx 85% complete for rna_expt_2.fastq\n",
      "Approx 90% complete for rna_expt_2.fastq\n",
      "Approx 95% complete for rna_expt_2.fastq\n",
      "Analysis complete for rna_expt_2.fastq\n"
     ]
    }
   ],
   "source": [
    "mkdir fastqc \n",
    "\n",
    "#run fastqc on all fastq files and send output to fastqc folder\n",
    "fastqc *.fastq -o fastqc/\n",
    "\n",
    "cd fastqc \n",
    "firefox rna_cntl_1_fastqc.html\n",
    "\n",
    "#go one folder above\n",
    "cd .."
   ]
  },
  {
   "cell_type": "markdown",
   "metadata": {},
   "source": [
    "3. Let’s build an index for HISAT2."
   ]
  },
  {
   "cell_type": "code",
   "execution_count": 56,
   "metadata": {},
   "outputs": [
    {
     "name": "stdout",
     "output_type": "stream",
     "text": [
      "Settings:\n",
      "  Output files: \"chr16_Index.*.ht2\"\n",
      "  Line rate: 6 (line is 64 bytes)\n",
      "  Lines per side: 1 (side is 64 bytes)\n",
      "  Offset rate: 4 (one in 16)\n",
      "  FTable chars: 10\n",
      "  Strings: unpacked\n",
      "  Local offset rate: 3 (one in 8)\n",
      "  Local fTable chars: 6\n",
      "  Local sequence length: 57344\n",
      "  Local sequence overlap between two consecutive indexes: 1024\n",
      "  Endianness: little\n",
      "  Actual local endianness: little\n",
      "  Sanity checking: disabled\n",
      "  Assertions: disabled\n",
      "  Random seed: 0\n",
      "  Sizeofs: void*:8, int:4, long:8, size_t:8\n",
      "Input files DNA, FASTA:\n",
      "  chr16.fa\n",
      "Reading reference sizes\n",
      "  Time reading reference sizes: 00:00:01\n",
      "Calculating joined length\n",
      "Writing header\n",
      "Reserving space for joined string\n",
      "Joining reference sequences\n",
      "  Time to join reference sequences: 00:00:01\n",
      "  Time to read SNPs and splice sites: 00:00:00\n",
      "Using parameters --bmax 15338614 --dcv 1024\n",
      "  Doing ahead-of-time memory usage test\n",
      "  Passed!  Constructing with these parameters: --bmax 15338614 --dcv 1024\n",
      "Constructing suffix-array element generator\n",
      "Building DifferenceCoverSample\n",
      "  Building sPrime\n",
      "  Building sPrimeOrder\n",
      "  V-Sorting samples\n",
      "  V-Sorting samples time: 00:00:02\n",
      "  Allocating rank array\n",
      "  Ranking v-sort output\n",
      "  Ranking v-sort output time: 00:00:00\n",
      "  Invoking Larsson-Sadakane on ranks\n",
      "  Invoking Larsson-Sadakane on ranks time: 00:00:01\n",
      "  Sanity-checking and returning\n",
      "Building samples\n",
      "Reserving space for 12 sample suffixes\n",
      "Generating random suffixes\n",
      "QSorting 12 sample offsets, eliminating duplicates\n",
      "QSorting sample offsets, eliminating duplicates time: 00:00:00\n",
      "Multikey QSorting 12 samples\n",
      "  (Using difference cover)\n",
      "  Multikey QSorting samples time: 00:00:00\n",
      "Calculating bucket sizes\n",
      "Splitting and merging\n",
      "  Splitting and merging time: 00:00:00\n",
      "Avg bucket size: 1.16866e+07 (target: 15338613)\n",
      "Converting suffix-array elements to index image\n",
      "Allocating ftab, absorbFtab\n",
      "Entering GFM loop\n",
      "Getting block 1 of 7\n",
      "  Reserving size (15338614) for bucket 1\n",
      "  Calculating Z arrays for bucket 1\n",
      "  Entering block accumulator loop for bucket 1:\n",
      "  bucket 1: 10%\n",
      "  bucket 1: 20%\n",
      "  bucket 1: 30%\n",
      "  bucket 1: 40%\n",
      "  bucket 1: 50%\n",
      "  bucket 1: 60%\n",
      "  bucket 1: 70%\n",
      "  bucket 1: 80%\n",
      "  bucket 1: 90%\n",
      "  bucket 1: 100%\n",
      "  Sorting block of length 14716821 for bucket 1\n",
      "  (Using difference cover)\n",
      "  Sorting block time: 00:00:06\n",
      "Returning block of 14716822 for bucket 1\n",
      "Getting block 2 of 7\n",
      "  Reserving size (15338614) for bucket 2\n",
      "  Calculating Z arrays for bucket 2\n",
      "  Entering block accumulator loop for bucket 2:\n",
      "  bucket 2: 10%\n",
      "  bucket 2: 20%\n",
      "  bucket 2: 30%\n",
      "  bucket 2: 40%\n",
      "  bucket 2: 50%\n",
      "  bucket 2: 60%\n",
      "  bucket 2: 70%\n",
      "  bucket 2: 80%\n",
      "  bucket 2: 90%\n",
      "  bucket 2: 100%\n",
      "  Sorting block of length 7564940 for bucket 2\n",
      "  (Using difference cover)\n",
      "  Sorting block time: 00:00:03\n",
      "Returning block of 7564941 for bucket 2\n",
      "Getting block 3 of 7\n",
      "  Reserving size (15338614) for bucket 3\n",
      "  Calculating Z arrays for bucket 3\n",
      "  Entering block accumulator loop for bucket 3:\n",
      "  bucket 3: 10%\n",
      "  bucket 3: 20%\n",
      "  bucket 3: 30%\n",
      "  bucket 3: 40%\n",
      "  bucket 3: 50%\n",
      "  bucket 3: 60%\n",
      "  bucket 3: 70%\n",
      "  bucket 3: 80%\n",
      "  bucket 3: 90%\n",
      "  bucket 3: 100%\n",
      "  Sorting block of length 12102407 for bucket 3\n",
      "  (Using difference cover)\n",
      "  Sorting block time: 00:00:04\n",
      "Returning block of 12102408 for bucket 3\n",
      "Getting block 4 of 7\n",
      "  Reserving size (15338614) for bucket 4\n",
      "  Calculating Z arrays for bucket 4\n",
      "  Entering block accumulator loop for bucket 4:\n",
      "  bucket 4: 10%\n",
      "  bucket 4: 20%\n",
      "  bucket 4: 30%\n",
      "  bucket 4: 40%\n",
      "  bucket 4: 50%\n",
      "  bucket 4: 60%\n",
      "  bucket 4: 70%\n",
      "  bucket 4: 80%\n",
      "  bucket 4: 90%\n",
      "  bucket 4: 100%\n",
      "  Sorting block of length 14907022 for bucket 4\n",
      "  (Using difference cover)\n",
      "  Sorting block time: 00:00:06\n",
      "Returning block of 14907023 for bucket 4\n",
      "Getting block 5 of 7\n",
      "  Reserving size (15338614) for bucket 5\n",
      "  Calculating Z arrays for bucket 5\n",
      "  Entering block accumulator loop for bucket 5:\n",
      "  bucket 5: 10%\n",
      "  bucket 5: 20%\n",
      "  bucket 5: 30%\n",
      "  bucket 5: 40%\n",
      "  bucket 5: 50%\n",
      "  bucket 5: 60%\n",
      "  bucket 5: 70%\n",
      "  bucket 5: 80%\n",
      "  bucket 5: 90%\n",
      "  bucket 5: 100%\n",
      "  Sorting block of length 3528554 for bucket 5\n",
      "  (Using difference cover)\n",
      "  Sorting block time: 00:00:01\n",
      "Returning block of 3528555 for bucket 5\n",
      "Getting block 6 of 7\n",
      "  Reserving size (15338614) for bucket 6\n",
      "  Calculating Z arrays for bucket 6\n",
      "  Entering block accumulator loop for bucket 6:\n",
      "  bucket 6: 10%\n",
      "  bucket 6: 20%\n",
      "  bucket 6: 30%\n",
      "  bucket 6: 40%\n",
      "  bucket 6: 50%\n",
      "  bucket 6: 60%\n",
      "  bucket 6: 70%\n",
      "  bucket 6: 80%\n",
      "  bucket 6: 90%\n",
      "  bucket 6: 100%\n",
      "  Sorting block of length 14550274 for bucket 6\n",
      "  (Using difference cover)\n",
      "  Sorting block time: 00:00:06\n",
      "Returning block of 14550275 for bucket 6\n",
      "Getting block 7 of 7\n",
      "  Reserving size (15338614) for bucket 7\n",
      "  Calculating Z arrays for bucket 7\n",
      "  Entering block accumulator loop for bucket 7:\n",
      "  bucket 7: 10%\n",
      "  bucket 7: 20%\n",
      "  bucket 7: 30%\n",
      "  bucket 7: 40%\n",
      "  bucket 7: 50%\n",
      "  bucket 7: 60%\n",
      "  bucket 7: 70%\n",
      "  bucket 7: 80%\n",
      "  bucket 7: 90%\n",
      "  bucket 7: 100%\n",
      "  Sorting block of length 14435919 for bucket 7\n",
      "  (Using difference cover)\n",
      "  Sorting block time: 00:00:06\n",
      "Returning block of 14435920 for bucket 7\n",
      "Exited GFM loop\n",
      "fchr[A]: 0\n",
      "fchr[C]: 22558319\n",
      "fchr[G]: 40731061\n",
      "fchr[T]: 59031037\n",
      "fchr[$]: 81805943\n",
      "Exiting GFM::buildToDisk()\n",
      "Returning from initFromVector\n",
      "Wrote 31463403 bytes to primary GFM file: chr16_Index.1.ht2\n",
      "Wrote 20451492 bytes to secondary GFM file: chr16_Index.2.ht2\n",
      "Re-opening _in1 and _in2 as input streams\n",
      "Returning from GFM constructor\n",
      "Returning from initFromVector\n",
      "Wrote 35959141 bytes to primary GFM file: chr16_Index.5.ht2\n",
      "Wrote 20825980 bytes to secondary GFM file: chr16_Index.6.ht2\n",
      "Re-opening _in5 and _in5 as input streams\n",
      "Returning from HierEbwt constructor\n",
      "Headers:\n",
      "    len: 81805943\n",
      "    gbwtLen: 81805944\n",
      "    nodes: 81805944\n",
      "    sz: 20451486\n",
      "    gbwtSz: 20451487\n",
      "    lineRate: 6\n",
      "    offRate: 4\n",
      "    offMask: 0xfffffff0\n",
      "    ftabChars: 10\n",
      "    eftabLen: 0\n",
      "    eftabSz: 0\n",
      "    ftabLen: 1048577\n",
      "    ftabSz: 4194308\n",
      "    offsLen: 5112872\n",
      "    offsSz: 20451488\n",
      "    lineSz: 64\n",
      "    sideSz: 64\n",
      "    sideGbwtSz: 48\n",
      "    sideGbwtLen: 192\n",
      "    numSides: 426073\n",
      "    numLines: 426073\n",
      "    gbwtTotLen: 27268672\n",
      "    gbwtTotSz: 27268672\n",
      "    reverse: 0\n",
      "    linearFM: Yes\n",
      "Total time for call to driver() for forward index: 00:01:16\n"
     ]
    }
   ],
   "source": [
    "#create a folder for index\n",
    "mkdir hisat_index\n",
    "\n",
    "#create index\n",
    "hisat2-build chr16.fa chr16_Index\n",
    "\n",
    "#move index file to index folder\n",
    "mv chr16_Index* hisat_index/\n"
   ]
  },
  {
   "cell_type": "markdown",
   "metadata": {},
   "source": [
    "4. Next we will use HISAT2 to align our fastq files to the index"
   ]
  },
  {
   "cell_type": "code",
   "execution_count": 62,
   "metadata": {
    "scrolled": true
   },
   "outputs": [
    {
     "name": "stdout",
     "output_type": "stream",
     "text": [
      "351453 reads; of these:\n",
      "  351453 (100.00%) were unpaired; of these:\n",
      "    9155 (2.60%) aligned 0 times\n",
      "    327099 (93.07%) aligned exactly 1 time\n",
      "    15199 (4.32%) aligned >1 times\n",
      "97.40% overall alignment rate\n",
      "hisat2 -p 8 --dta -x hisat_index/chr16_Index -U rna_cntl_2.fastq -S rna_cntl_2.sam --summary-file rna_cntl_2_alignStats.txt\n",
      "372271 reads; of these:\n",
      "  372271 (100.00%) were unpaired; of these:\n",
      "    9418 (2.53%) aligned 0 times\n",
      "    345536 (92.82%) aligned exactly 1 time\n",
      "    17317 (4.65%) aligned >1 times\n",
      "97.47% overall alignment rate\n",
      "hisat2 -p 8 --dta -x hisat_index/chr16_Index -U rna_expt_1.fastq -S rna_expt_1.sam --summary-file rna_expt_1_alignStats.txt\n",
      "488268 reads; of these:\n",
      "  488268 (100.00%) were unpaired; of these:\n",
      "    13480 (2.76%) aligned 0 times\n",
      "    446679 (91.48%) aligned exactly 1 time\n",
      "    28109 (5.76%) aligned >1 times\n",
      "97.24% overall alignment rate\n",
      "hisat2 -p 8 --dta -x hisat_index/chr16_Index -U rna_expt_2.fastq -S rna_expt_2.sam --summary-file rna_expt_2_alignStats.txt\n",
      "542486 reads; of these:\n",
      "  542486 (100.00%) were unpaired; of these:\n",
      "    14712 (2.71%) aligned 0 times\n",
      "    496071 (91.44%) aligned exactly 1 time\n",
      "    31703 (5.84%) aligned >1 times\n",
      "97.29% overall alignment rate\n"
     ]
    }
   ],
   "source": [
    "hisat2 -p 8 --dta -x hisat_index/chr16_Index -U rna_cntl_1.fastq -S rna_cntl_1.sam --summary-file rna_cntl_1_alignStats.txt\n",
    "#run the above command, but switch sample names\n",
    "!!:gs/cntl_1/cntl_2\n",
    "!!:gs/cntl_2/expt_1\n",
    "!!:gs/expt_1/expt_2"
   ]
  },
  {
   "cell_type": "markdown",
   "metadata": {},
   "source": [
    "The flags/options in the command are:\n",
    "- Use 8 processors/cores (-p 8)\n",
    "- Report alignments tailored for transcript assembly (--dta)\n",
    "- Basename for the index (hisat_index/Hg38_Index)\n",
    "- Name of single-end FASTQ for alignment (-U rna_cntl_1.fastq)\n",
    "- [Note: use -1 READ_1_FILE -2 READ_2_FILE for paired-end data]\n",
    "- Name of aligned SAM file for output (-S rna_cntl_1.sam)\n"
   ]
  },
  {
   "cell_type": "markdown",
   "metadata": {},
   "source": [
    "6. I like to keep my files organized, so let’s go ahead and create a folder called Sam_aligned and move all the aligned SAM files into it (Commands are case sensitive - if you "
   ]
  },
  {
   "cell_type": "code",
   "execution_count": 63,
   "metadata": {},
   "outputs": [],
   "source": [
    "mkdir Sam_aligned\n",
    "mv *.sam Sam_aligned/"
   ]
  },
  {
   "cell_type": "markdown",
   "metadata": {},
   "source": [
    "7. Similarly let’s create a folder called AlignStats and move all of the alignment stats into this folder."
   ]
  },
  {
   "cell_type": "code",
   "execution_count": 64,
   "metadata": {},
   "outputs": [],
   "source": [
    "mkdir AlignedStats\n",
    "mv *.txt AlignedStats/"
   ]
  },
  {
   "cell_type": "markdown",
   "metadata": {},
   "source": [
    "8. The next step is to perform transcript assembly using StringTie. To do that, we need to sort the sam output files generated by HISAT2 by chromosomal co-ordinates and convert them into the bam format."
   ]
  },
  {
   "cell_type": "code",
   "execution_count": 70,
   "metadata": {},
   "outputs": [
    {
     "name": "stdout",
     "output_type": "stream",
     "text": [
      "samtools view -u Sam_aligned/rna_cntl_2.sam | samtools sort - -o Bam_aligned/rna_cntl_2.sorted.bam\n",
      "samtools view -u Sam_aligned/rna_expt_1.sam | samtools sort - -o Bam_aligned/rna_expt_1.sorted.bam\n",
      "samtools view -u Sam_aligned/rna_expt_2.sam | samtools sort - -o Bam_aligned/rna_expt_2.sorted.bam\n"
     ]
    }
   ],
   "source": [
    "mkdir Bam_aligned \n",
    "samtools view -u Sam_aligned/rna_cntl_1.sam | samtools sort - -o Bam_aligned/rna_cntl_1.sorted.bam\n",
    "!!:gs/cntl_1/cntl_2\n",
    "!!:gs/cntl_2/expt_1\n",
    "!!:gs/expt_1/expt_2\n"
   ]
  },
  {
   "cell_type": "markdown",
   "metadata": {},
   "source": [
    " 10. Now we’re ready to assemble the transcriptome using StringTie. This can be done as follows"
   ]
  },
  {
   "cell_type": "code",
   "execution_count": 77,
   "metadata": {},
   "outputs": [
    {
     "name": "stdout",
     "output_type": "stream",
     "text": [
      "stringtie Bam_aligned/rna_cntl_2.sorted.bam -p 8 -o Assembled_transcripts/rna_cntl_2.gtf \n",
      "stringtie Bam_aligned/rna_expt_1.sorted.bam -p 8 -o Assembled_transcripts/rna_expt_1.gtf \n",
      "stringtie Bam_aligned/rna_expt_2.sorted.bam -p 8 -o Assembled_transcripts/rna_expt_2.gtf \n"
     ]
    }
   ],
   "source": [
    "stringtie Bam_aligned/rna_cntl_1.sorted.bam -p 8 -o Assembled_transcripts/rna_cntl_1.gtf \n",
    "!!:gs/cntl_1/cntl_2\n",
    "!!:gs/cntl_2/expt_1\n",
    "!!:gs/expt_1/expt_2"
   ]
  },
  {
   "cell_type": "markdown",
   "metadata": {},
   "source": [
    "11. Now that we have all the transcripts assembled, Let’s go ahead and merge them into a single GTF file that pools all the transcript files together."
   ]
  },
  {
   "cell_type": "code",
   "execution_count": 79,
   "metadata": {},
   "outputs": [
    {
     "name": "stdout",
     "output_type": "stream",
     "text": [
      "Assembled_transcripts/rna_cntl_1.gtf\n",
      "Assembled_transcripts/rna_cntl_2.gtf\n",
      "Assembled_transcripts/rna_expt_1.gtf\n",
      "Assembled_transcripts/rna_expt_2.gtf\n"
     ]
    }
   ],
   "source": [
    "ls Assembled_transcripts/*.gtf > Assembled_transcripts/mergelist.txt\n",
    "cat Assembled_transcripts/mergelist.txt"
   ]
  },
  {
   "cell_type": "code",
   "execution_count": 80,
   "metadata": {},
   "outputs": [],
   "source": [
    "stringtie --merge -p 8 -o Assembled_transcripts/stringtie_merged.gtf Assembled_transcripts/mergelist.txt"
   ]
  },
  {
   "cell_type": "markdown",
   "metadata": {},
   "source": [
    "12. Let’s prep for DE analysis using ballgown"
   ]
  },
  {
   "cell_type": "code",
   "execution_count": 83,
   "metadata": {},
   "outputs": [
    {
     "name": "stdout",
     "output_type": "stream",
     "text": [
      "stringtie -e -B -p 8 -G Assembled_transcripts/stringtie_merged.gtf -o ballgown/rna_cntl_2/rna_cntl_2.gtf Bam_aligned/rna_cntl_2.sorted.bam\n",
      "stringtie -e -B -p 8 -G Assembled_transcripts/stringtie_merged.gtf -o ballgown/rna_expt_1/rna_expt_1.gtf Bam_aligned/rna_expt_1.sorted.bam\n",
      "stringtie -e -B -p 8 -G Assembled_transcripts/stringtie_merged.gtf -o ballgown/rna_expt_2/rna_expt_2.gtf Bam_aligned/rna_expt_2.sorted.bam\n"
     ]
    }
   ],
   "source": [
    "stringtie -e -B -p 8 -G Assembled_transcripts/stringtie_merged.gtf -o ballgown/rna_cntl_1/rna_cntl_1.gtf Bam_aligned/rna_cntl_1.sorted.bam\n",
    "!!:gs/cntl_1/cntl_2\n",
    "!!:gs/cntl_2/expt_1\n",
    "!!:gs/expt_1/expt_2"
   ]
  },
  {
   "cell_type": "markdown",
   "metadata": {},
   "source": [
    "The flags/options in the command are:\n",
    "- Process only the reads that map to the genes in the reference GTF (-e)\n",
    "- Output data in Ballgown-compatible format (-B)\n",
    "- Use 8 processors/cores (-p 8)\n",
    "- Name of reference GTF file (-G Assembled_transcripts/stringtie.merged.gtf)"
   ]
  },
  {
   "cell_type": "markdown",
   "metadata": {},
   "source": [
    "#### Free to use/modify/resuse for personal academic purposes\n",
    "© 2020 American Academy for Biomedical Informatics, Confidential and Proprietary "
   ]
  }
 ],
 "metadata": {
  "kernelspec": {
   "display_name": "Bash",
   "language": "bash",
   "name": "bash"
  },
  "language_info": {
   "codemirror_mode": "shell",
   "file_extension": ".sh",
   "mimetype": "text/x-sh",
   "name": "bash"
  }
 },
 "nbformat": 4,
 "nbformat_minor": 4
}
